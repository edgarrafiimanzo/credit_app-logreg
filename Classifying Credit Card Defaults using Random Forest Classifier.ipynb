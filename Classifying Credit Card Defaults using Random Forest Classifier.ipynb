{
 "cells": [
  {
   "cell_type": "markdown",
   "metadata": {},
   "source": [
    "In this project, i'm trying to classify credit card defaults using the random forest classifier, i'll elaborate the reasons why i decided to use this algorithm as i go along writing the code for this project.\n",
    "\n",
    "First, we'll import the essential packages."
   ]
  },
  {
   "cell_type": "code",
   "execution_count": 1,
   "metadata": {},
   "outputs": [],
   "source": [
    "import pandas as pd\n",
    "import numpy as np\n",
    "import matplotlib.pyplot as plt\n",
    "import seaborn as sns\n"
   ]
  },
  {
   "cell_type": "code",
   "execution_count": 2,
   "metadata": {},
   "outputs": [
    {
     "name": "stdout",
     "output_type": "stream",
     "text": [
      "(30000, 24)\n",
      "<class 'pandas.core.frame.DataFrame'>\n",
      "Int64Index: 30000 entries, 1 to 30000\n",
      "Data columns (total 24 columns):\n",
      " #   Column                      Non-Null Count  Dtype  \n",
      "---  ------                      --------------  -----  \n",
      " 0   LIMIT_BAL                   30000 non-null  float64\n",
      " 1   SEX                         30000 non-null  int64  \n",
      " 2   EDUCATION                   30000 non-null  int64  \n",
      " 3   MARRIAGE                    30000 non-null  int64  \n",
      " 4   AGE                         30000 non-null  int64  \n",
      " 5   PAY_0                       30000 non-null  int64  \n",
      " 6   PAY_2                       30000 non-null  int64  \n",
      " 7   PAY_3                       30000 non-null  int64  \n",
      " 8   PAY_4                       30000 non-null  int64  \n",
      " 9   PAY_5                       30000 non-null  int64  \n",
      " 10  PAY_6                       30000 non-null  int64  \n",
      " 11  BILL_AMT1                   30000 non-null  float64\n",
      " 12  BILL_AMT2                   30000 non-null  float64\n",
      " 13  BILL_AMT3                   30000 non-null  float64\n",
      " 14  BILL_AMT4                   30000 non-null  float64\n",
      " 15  BILL_AMT5                   30000 non-null  float64\n",
      " 16  BILL_AMT6                   30000 non-null  float64\n",
      " 17  PAY_AMT1                    30000 non-null  float64\n",
      " 18  PAY_AMT2                    30000 non-null  float64\n",
      " 19  PAY_AMT3                    30000 non-null  float64\n",
      " 20  PAY_AMT4                    30000 non-null  float64\n",
      " 21  PAY_AMT5                    30000 non-null  float64\n",
      " 22  PAY_AMT6                    30000 non-null  float64\n",
      " 23  default.payment.next.month  30000 non-null  int64  \n",
      "dtypes: float64(13), int64(11)\n",
      "memory usage: 5.7 MB\n",
      "None\n",
      "    LIMIT_BAL  SEX  EDUCATION  MARRIAGE  AGE  PAY_0  PAY_2  PAY_3  PAY_4  \\\n",
      "ID                                                                         \n",
      "1     20000.0    2          2         1   24      2      2     -1     -1   \n",
      "2    120000.0    2          2         2   26     -1      2      0      0   \n",
      "3     90000.0    2          2         2   34      0      0      0      0   \n",
      "4     50000.0    2          2         1   37      0      0      0      0   \n",
      "5     50000.0    1          2         1   57     -1      0     -1      0   \n",
      "\n",
      "    PAY_5  ...  BILL_AMT4  BILL_AMT5  BILL_AMT6  PAY_AMT1  PAY_AMT2  PAY_AMT3  \\\n",
      "ID         ...                                                                  \n",
      "1      -2  ...        0.0        0.0        0.0       0.0     689.0       0.0   \n",
      "2       0  ...     3272.0     3455.0     3261.0       0.0    1000.0    1000.0   \n",
      "3       0  ...    14331.0    14948.0    15549.0    1518.0    1500.0    1000.0   \n",
      "4       0  ...    28314.0    28959.0    29547.0    2000.0    2019.0    1200.0   \n",
      "5       0  ...    20940.0    19146.0    19131.0    2000.0   36681.0   10000.0   \n",
      "\n",
      "    PAY_AMT4  PAY_AMT5  PAY_AMT6  default.payment.next.month  \n",
      "ID                                                            \n",
      "1        0.0       0.0       0.0                           1  \n",
      "2     1000.0       0.0    2000.0                           1  \n",
      "3     1000.0    1000.0    5000.0                           0  \n",
      "4     1100.0    1069.0    1000.0                           0  \n",
      "5     9000.0     689.0     679.0                           0  \n",
      "\n",
      "[5 rows x 24 columns]\n"
     ]
    }
   ],
   "source": [
    "data= pd.read_csv(r'C:\\Users\\edgar\\Desktop\\stuff\\tutorial python\\datasets\\UCI_Credit_Card.csv', index_col=0 )\n",
    "print(data.shape) #we'll take a look at the dimension of the dataset\n",
    "print(data.info()) #we'll get the the information of the dataset, the data types etc\n",
    "print(data.head()) #print the first 5 rows of the dataset"
   ]
  },
  {
   "cell_type": "markdown",
   "metadata": {},
   "source": [
    "###### The description of the data\n",
    "\n",
    "There are 25 variables:\n",
    "\n",
    "-ID: ID of each client\n",
    "-LIMIT_BAL: Amount of given credit in NT dollars (includes individual and --family/supplementary credit\n",
    "\n",
    "-SEX: Gender (1=male, 2=female)\n",
    "\n",
    "-EDUCATION: (1=graduate school, 2=university, 3=high school, 4=others, 5=unknown, 6=unknown)\n",
    "\n",
    "-MARRIAGE: Marital status (1=married, 2=single, 3=others)\n",
    "\n",
    "-AGE: Age in years\n",
    "\n",
    "-PAY_0: Repayment status in September, 2005 (-1=pay duly, 1=payment delay for one month, 2=payment delay for two months, … 8=payment delay for eight months, 9=payment delay for nine months and above)\n",
    "\n",
    "-PAY_2: Repayment status in August, 2005 (scale same as above)\n",
    "\n",
    "-PAY_3: Repayment status in July, 2005 (scale same as above)\n",
    "\n",
    "-PAY_4: Repayment status in June, 2005 (scale same as above)\n",
    "\n",
    "-PAY_5: Repayment status in May, 2005 (scale same as above)\n",
    "\n",
    "-PAY_6: Repayment status in April, 2005 (scale same as above)\n",
    "\n",
    "-BILL_AMT1: Amount of bill statement in September, 2005 (NT dollar)\n",
    "\n",
    "-BILL_AMT2: Amount of bill statement in August, 2005 (NT dollar)\n",
    "\n",
    "-BILL_AMT3: Amount of bill statement in July, 2005 (NT dollar)\n",
    "\n",
    "-BILL_AMT4: Amount of bill statement in June, 2005 (NT dollar)\n",
    "\n",
    "-BILL_AMT5: Amount of bill statement in May, 2005 (NT dollar)\n",
    "\n",
    "-BILL_AMT6: Amount of bill statement in April, 2005 (NT dollar)\n",
    "\n",
    "-PAY_AMT1: Amount of previous payment in September, 2005 (NT dollar)\n",
    "\n",
    "-PAY_AMT2: Amount of previous payment in August, 2005 (NT dollar)\n",
    "\n",
    "-PAY_AMT3: Amount of previous payment in July, 2005 (NT dollar)\n",
    "\n",
    "-PAY_AMT4: Amount of previous payment in June, 2005 (NT dollar)\n",
    "\n",
    "-PAY_AMT5: Amount of previous payment in May, 2005 (NT dollar)\n",
    "\n",
    "-PAY_AMT6: Amount of previous payment in April, 2005 (NT dollar)\n",
    "\n",
    "-default.payment.next.month: Default payment (1=yes, 0=no)\n"
   ]
  },
  {
   "cell_type": "code",
   "execution_count": 3,
   "metadata": {},
   "outputs": [
    {
     "name": "stdout",
     "output_type": "stream",
     "text": [
      "2    18112\n",
      "1    11888\n",
      "Name: SEX, dtype: int64\n",
      "0    0.7788\n",
      "1    0.2212\n",
      "Name: default.payment.next.month, dtype: float64\n",
      "default.payment.next.month         0         1\n",
      "SEX                                           \n",
      "1                           0.758328  0.241672\n",
      "2                           0.792237  0.207763\n"
     ]
    },
    {
     "data": {
      "image/png": "[encoded data removed]",
      "text/plain": [
       "<Figure size 432x288 with 1 Axes>"
      ]
     },
     "metadata": {
      "needs_background": "light"
     },
     "output_type": "display_data"
    }
   ],
   "source": [
    "print(data['SEX'].value_counts())\n",
    "print(data['default.payment.next.month'].value_counts(normalize=True))\n",
    "print(pd.crosstab(data['SEX'], data['default.payment.next.month'], normalize='index'))\n",
    "sns.countplot(x='default.payment.next.month', hue='SEX', data=data)\n",
    "\n",
    "plt.show()\n"
   ]
  },
  {
   "cell_type": "code",
   "execution_count": 4,
   "metadata": {},
   "outputs": [],
   "source": [
    "data['Pay_total']=data[['PAY_0', 'PAY_2','PAY_3','PAY_4','PAY_5','PAY_6']].sum(axis=1)\n",
    "data['']\n"
   ]
  },
  {
   "cell_type": "markdown",
   "metadata": {},
   "source": [
    "From the initial EDA, we gather that there are no missing values. But upon inspecting the types of the variables, some variable's types aren't correct.\n",
    "\n",
    "-Sex is read as an integer variable when it should be categorical variable\n",
    "\n",
    "-Education is read as an integer variable when it should be categorical variable\n",
    "\n",
    "-Marriage is read as an integer variable when it should be categorical variable\n",
    "\n",
    "-The label of the dataset (Default payment next month) should be a categorical variable instead of integer\n",
    "\n",
    "#### this means we'll need to one-hot encode these variables"
   ]
  },
  {
   "cell_type": "code",
   "execution_count": 5,
   "metadata": {},
   "outputs": [
    {
     "name": "stdout",
     "output_type": "stream",
     "text": [
      "    LIMIT_BAL  SEX  EDUCATION  MARRIAGE  AGE  PAY_0  PAY_2  PAY_3  PAY_4  \\\n",
      "ID                                                                         \n",
      "1     20000.0    2          2         1   24      2      2     -1     -1   \n",
      "2    120000.0    2          2         2   26     -1      2      0      0   \n",
      "3     90000.0    2          2         2   34      0      0      0      0   \n",
      "4     50000.0    2          2         1   37      0      0      0      0   \n",
      "5     50000.0    1          2         1   57     -1      0     -1      0   \n",
      "\n",
      "    PAY_5  ...  BILL_AMT4  BILL_AMT5  BILL_AMT6  PAY_AMT1  PAY_AMT2  PAY_AMT3  \\\n",
      "ID         ...                                                                  \n",
      "1      -2  ...        0.0        0.0        0.0       0.0     689.0       0.0   \n",
      "2       0  ...     3272.0     3455.0     3261.0       0.0    1000.0    1000.0   \n",
      "3       0  ...    14331.0    14948.0    15549.0    1518.0    1500.0    1000.0   \n",
      "4       0  ...    28314.0    28959.0    29547.0    2000.0    2019.0    1200.0   \n",
      "5       0  ...    20940.0    19146.0    19131.0    2000.0   36681.0   10000.0   \n",
      "\n",
      "    PAY_AMT4  PAY_AMT5  PAY_AMT6  Pay_total  \n",
      "ID                                           \n",
      "1        0.0       0.0       0.0         -2  \n",
      "2     1000.0       0.0    2000.0          3  \n",
      "3     1000.0    1000.0    5000.0          0  \n",
      "4     1100.0    1069.0    1000.0          0  \n",
      "5     9000.0     689.0     679.0         -2  \n",
      "\n",
      "[5 rows x 24 columns]\n"
     ]
    }
   ],
   "source": [
    "from sklearn.preprocessing import OneHotEncoder, OrdinalEncoder, LabelEncoder\n",
    "X= data.drop('default.payment.next.month', axis=1)\n",
    "y=data['default.payment.next.month']\n",
    "print(X.head())"
   ]
  },
  {
   "cell_type": "code",
   "execution_count": 6,
   "metadata": {},
   "outputs": [
    {
     "data": {
      "text/plain": [
       "array([1, 1, 0, ..., 1, 1, 1], dtype=int64)"
      ]
     },
     "execution_count": 6,
     "metadata": {},
     "output_type": "execute_result"
    }
   ],
   "source": [
    "onehot = OneHotEncoder(sparse=False)\n",
    "onehot.fit_transform(X[['SEX', 'EDUCATION', 'MARRIAGE']])\n",
    "\n",
    "label = LabelEncoder()\n",
    "label.fit_transform(y)"
   ]
  },
  {
   "cell_type": "code",
   "execution_count": 7,
   "metadata": {},
   "outputs": [
    {
     "name": "stdout",
     "output_type": "stream",
     "text": [
      "0.8126666666666666\n"
     ]
    }
   ],
   "source": [
    "from sklearn.model_selection import train_test_split\n",
    "from sklearn.ensemble import RandomForestClassifier\n",
    "from sklearn.metrics import accuracy_score\n",
    "\n",
    "X_train, X_test, y_train, y_test = train_test_split(X, y, test_size=0.2, random_state=42, stratify= y)\n",
    "\n",
    "rf = RandomForestClassifier()\n",
    "\n",
    "rf.fit(X_train, y_train)\n",
    "\n",
    "y_predict = rf.predict(X_test)\n",
    "\n",
    "score= accuracy_score(y_test, y_predict)\n",
    "\n",
    "print(score)"
   ]
  },
  {
   "cell_type": "code",
   "execution_count": 9,
   "metadata": {},
   "outputs": [
    {
     "data": {
      "image/png": "[encoded data removed]",
      "text/plain": [
       "<Figure size 432x288 with 1 Axes>"
      ]
     },
     "metadata": {
      "needs_background": "light"
     },
     "output_type": "display_data"
    }
   ],
   "source": [
    "importances_rf = pd.Series(rf.feature_importances_, index=X.columns)\n",
    "sorted_importances_rf = importances_rf.sort_values()\n",
    "sorted_importances_rf.plot(kind='barh', color='lightgreen')\n",
    "plt.show()"
   ]
  },
  {
   "cell_type": "markdown",
   "metadata": {},
   "source": [
    "our baseline model produced an accuracy of 81.4%. Let's see if we can improve this with hyperparameter tuning."
   ]
  },
  {
   "cell_type": "code",
   "execution_count": 10,
   "metadata": {},
   "outputs": [],
   "source": [
    "from sklearn.model_selection import RandomizedSearchCV\n",
    "# Number of trees in random forest\n",
    "n_estimators = [int(x) for x in np.linspace(start = 200, stop = 2000, num = 10)]\n",
    "# Number of features to consider at every split\n",
    "max_features = ['auto', 'sqrt']\n",
    "# Maximum number of levels in tree\n",
    "max_depth = [int(x) for x in np.linspace(10, 110, num = 11)]\n",
    "max_depth.append(None)\n",
    "# Minimum number of samples required to split a node\n",
    "min_samples_split = [2, 5, 10]\n",
    "# Minimum number of samples required at each leaf node\n",
    "min_samples_leaf = [1, 2, 4]\n",
    "# Method of selecting samples for training each tree\n",
    "bootstrap = [True, False]\n",
    "# Create the random grid\n",
    "random_grid = {'n_estimators': n_estimators,\n",
    "               'max_features': max_features,\n",
    "               'max_depth': max_depth,\n",
    "               'min_samples_split': min_samples_split,\n",
    "               'min_samples_leaf': min_samples_leaf,\n",
    "               'bootstrap': bootstrap}"
   ]
  },
  {
   "cell_type": "code",
   "execution_count": 11,
   "metadata": {},
   "outputs": [
    {
     "name": "stdout",
     "output_type": "stream",
     "text": [
      "Fitting 3 folds for each of 100 candidates, totalling 300 fits\n"
     ]
    },
    {
     "data": {
      "text/plain": [
       "RandomizedSearchCV(cv=3, estimator=RandomForestClassifier(), n_iter=100,\n",
       "                   n_jobs=-1,\n",
       "                   param_distributions={'bootstrap': [True, False],\n",
       "                                        'max_depth': [10, 20, 30, 40, 50, 60,\n",
       "                                                      70, 80, 90, 100, 110,\n",
       "                                                      None],\n",
       "                                        'max_features': ['auto', 'sqrt'],\n",
       "                                        'min_samples_leaf': [1, 2, 4],\n",
       "                                        'min_samples_split': [2, 5, 10],\n",
       "                                        'n_estimators': [200, 400, 600, 800,\n",
       "                                                         1000, 1200, 1400, 1600,\n",
       "                                                         1800, 2000]},\n",
       "                   random_state=42, verbose=2)"
      ]
     },
     "execution_count": 11,
     "metadata": {},
     "output_type": "execute_result"
    }
   ],
   "source": [
    "rf_random = RandomizedSearchCV(estimator = rf, param_distributions = random_grid, n_iter = 100, cv = 3, verbose=2, random_state=42, n_jobs = -1)\n",
    "# Fit the random search model\n",
    "rf_random.fit(X_train, y_train)"
   ]
  },
  {
   "cell_type": "code",
   "execution_count": 12,
   "metadata": {},
   "outputs": [
    {
     "name": "stdout",
     "output_type": "stream",
     "text": [
      "0.8146666666666667\n"
     ]
    }
   ],
   "source": [
    "y_pred_best = rf_random.predict(X_test)\n",
    "score_tuned = accuracy_score(y_test, y_pred_best)\n",
    "print(score_tuned)"
   ]
  },
  {
   "cell_type": "markdown",
   "metadata": {},
   "source": [
    "Since our data is imbalanced, we'll use the confusion matrix as an evaluation metric"
   ]
  },
  {
   "cell_type": "code",
   "execution_count": 13,
   "metadata": {},
   "outputs": [
    {
     "name": "stdout",
     "output_type": "stream",
     "text": [
      "[[0.73716667 0.04166667]\n",
      " [0.14366667 0.0775    ]]\n"
     ]
    }
   ],
   "source": [
    "from sklearn.metrics import confusion_matrix\n",
    "\n",
    "print(confusion_matrix(y_test, y_pred_best, normalize='all'))\n"
   ]
  },
  {
   "cell_type": "code",
   "execution_count": null,
   "metadata": {},
   "outputs": [],
   "source": []
  }
 ],
 "metadata": {
  "kernelspec": {
   "display_name": "Python 3",
   "language": "python",
   "name": "python3"
  },
  "language_info": {
   "codemirror_mode": {
    "name": "ipython",
    "version": 3
   },
   "file_extension": ".py",
   "mimetype": "text/x-python",
   "name": "python",
   "nbconvert_exporter": "python",
   "pygments_lexer": "ipython3",
   "version": "3.8.5"
  }
 },
 "nbformat": 4,
 "nbformat_minor": 4
}
